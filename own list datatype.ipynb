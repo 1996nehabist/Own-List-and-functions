{
 "cells": [
  {
   "cell_type": "markdown",
   "id": "eefad808",
   "metadata": {},
   "source": [
    "# creating own list and all it's functions"
   ]
  },
  {
   "cell_type": "code",
   "execution_count": 1,
   "id": "2686df85",
   "metadata": {},
   "outputs": [],
   "source": [
    "import ctypes"
   ]
  },
  {
   "cell_type": "code",
   "execution_count": 65,
   "id": "4e9bcbdb",
   "metadata": {},
   "outputs": [],
   "source": [
    "class OwnList:\n",
    "    \n",
    "    def __init__(self):\n",
    "        self.size = 1\n",
    "        self.n = 0\n",
    "        self.A = self.__makearray(self.size)\n",
    "        \n",
    "    def __makearray(self, capacity):\n",
    "        # referntial array of C\n",
    "        return (capacity*ctypes.py_object)()\n",
    "    \n",
    "    def __resize(self, newcapcity):\n",
    "        # create a new C array of new size\n",
    "        B = self.__makearray(newcapcity)\n",
    "        self.size = newcapcity\n",
    "        # copy the content of previous array in new array\n",
    "        for i in range(self.n):\n",
    "            B[i] = self.A[i]\n",
    "        # reassign the new array to previous variable    \n",
    "        self.A = B\n",
    "        \n",
    "    # fun to find len of list\n",
    "    def __len__(self):\n",
    "        return self.n\n",
    "    \n",
    "    # fun to print the list\n",
    "    def __str__(self):\n",
    "        result = \"\"\n",
    "        for i in range(self.n):\n",
    "            result = result + str(self.A[i]) + \", \"\n",
    "        return \"[\" + result[ :-2] + \"]\"\n",
    "    \n",
    "    # to find the value of given index\n",
    "    def __getitem__(self, index):\n",
    "        if 0<= index < self.n:\n",
    "            return self.A[index]\n",
    "        else:\n",
    "            return \"index not found\"\n",
    "\n",
    "        \n",
    "    # to delete the item from the list\n",
    "    def __delitem__(self,pos):\n",
    "        if 0<= pos < self.n:\n",
    "            for i in range(pos, self.n-1):\n",
    "                self.A[i] = self.A[i+1]\n",
    "            self.n = self.n-1\n",
    "        \n",
    "    \n",
    "    \n",
    "    # fun to append in the list\n",
    "    def append(self, item):\n",
    "        # if the size of array can hold more values or not\n",
    "        if self.n == self.size:\n",
    "            self.__resize(self.size*2)\n",
    "            \n",
    "        self.A[self.n] = item\n",
    "        self.n += 1\n",
    "        \n",
    "    # fun to pop the item from the list\n",
    "    def pop(self):\n",
    "        if self.n  <= 0:\n",
    "            return \"Empty list\"\n",
    "        \n",
    "        print(self.A[self.n - 1])\n",
    "        self.n = self.n - 1\n",
    "        \n",
    "    #fun to clear the list\n",
    "    def clear(self):\n",
    "        self.n = 0\n",
    "        self.size = 1\n",
    "        \n",
    "    #fun to insert the item in a particular position\n",
    "    def insert(self, pos, item):\n",
    "        if self.n == self.size:\n",
    "            self.__resize(self.size*2)\n",
    "            \n",
    "        if pos > self.n:\n",
    "            pos = self.n\n",
    "            \n",
    "        for i in range(self.n, pos, -1):\n",
    "            self.A[i] = self.A[i-1]\n",
    "            \n",
    "        self.A[pos] = item\n",
    "        self.n = self.n + 1\n",
    "        \n",
    "        \n",
    "    def find(self, item):\n",
    "        for i in range(self.n):\n",
    "            if item == self.A[i]:\n",
    "                return i\n",
    "        return \"Value not in the list\"\n",
    "        \n",
    "    # fun to delete an item from the list\n",
    "    def remove(self, item):\n",
    "        pos = self.find(item)\n",
    "        if type(pos) == int:\n",
    "            self.__delitem__(pos)\n",
    "        else:\n",
    "            return pos\n",
    "       \n",
    "    \n",
    " # fun to find the max from the list\n",
    "    \n",
    "def my_max(obj):\n",
    "    n = len(obj)\n",
    "    temp_type = type(obj[0])\n",
    "    temp_max = obj[0]\n",
    "    for i in range(n):        \n",
    "        if temp_type == type(obj[i]):\n",
    "            if temp_max <= obj[i]:\n",
    "                temp_max = obj[i]\n",
    "        else:\n",
    "            return \"data type needs to be same\"\n",
    "            \n",
    "    return temp_max\n",
    "    \n",
    "# fun to find the min from the list\n",
    "def my_min(self):\n",
    "    n = len(obj)\n",
    "    temp_type = type(obj[0])\n",
    "    temp_min = obj[0]\n",
    "    for i in range(n):        \n",
    "        if temp_type == type(obj[i]):\n",
    "            if temp_min >= obj[i]:\n",
    "                temp_min = obj[i]\n",
    "        else:\n",
    "            return \"data type needs to be same\"\n",
    "            \n",
    "    return temp_min\n",
    "    \n",
    "          "
   ]
  },
  {
   "cell_type": "code",
   "execution_count": 66,
   "id": "5de20fbf",
   "metadata": {},
   "outputs": [
    {
     "name": "stdout",
     "output_type": "stream",
     "text": [
      "[are, sirs, sir, hello]\n",
      "4\n",
      "<class 'str'>\n"
     ]
    }
   ],
   "source": [
    "L = OwnList()\n",
    "L.append(\"are\")\n",
    "L.append(\"sirs\")\n",
    "L.append(\"sir\")\n",
    "L.append(\"hello\")\n",
    "print(L)\n",
    "print(len(L))\n",
    "print(type(L[5]))\n",
    "\n"
   ]
  },
  {
   "cell_type": "code",
   "execution_count": 67,
   "id": "de563ad4",
   "metadata": {},
   "outputs": [
    {
     "data": {
      "text/plain": [
       "'index not found'"
      ]
     },
     "execution_count": 67,
     "metadata": {},
     "output_type": "execute_result"
    }
   ],
   "source": [
    "L[5]"
   ]
  },
  {
   "cell_type": "code",
   "execution_count": 68,
   "id": "b263f82e",
   "metadata": {},
   "outputs": [
    {
     "data": {
      "text/plain": [
       "'sirs'"
      ]
     },
     "execution_count": 68,
     "metadata": {},
     "output_type": "execute_result"
    }
   ],
   "source": [
    "my_max(L)"
   ]
  },
  {
   "cell_type": "code",
   "execution_count": 177,
   "id": "e58b9873",
   "metadata": {},
   "outputs": [
    {
     "data": {
      "text/plain": [
       "__main__.OwnList"
      ]
     },
     "execution_count": 177,
     "metadata": {},
     "output_type": "execute_result"
    }
   ],
   "source": [
    "type(L)"
   ]
  },
  {
   "cell_type": "code",
   "execution_count": 178,
   "id": "0805017b",
   "metadata": {},
   "outputs": [],
   "source": [
    "L.insert(3,\"new\")"
   ]
  },
  {
   "cell_type": "code",
   "execution_count": 179,
   "id": "7c4741aa",
   "metadata": {},
   "outputs": [
    {
     "data": {
      "text/plain": [
       "'Value not in the list'"
      ]
     },
     "execution_count": 179,
     "metadata": {},
     "output_type": "execute_result"
    }
   ],
   "source": [
    "L.remove(\"hell\")"
   ]
  },
  {
   "cell_type": "code",
   "execution_count": 180,
   "id": "b57e12ab",
   "metadata": {},
   "outputs": [
    {
     "name": "stdout",
     "output_type": "stream",
     "text": [
      "[hello, world, 3.45, new]\n"
     ]
    }
   ],
   "source": [
    "print(L)"
   ]
  },
  {
   "cell_type": "code",
   "execution_count": 181,
   "id": "e6d7c58f",
   "metadata": {},
   "outputs": [
    {
     "name": "stdout",
     "output_type": "stream",
     "text": [
      "new\n"
     ]
    }
   ],
   "source": [
    "L.pop()"
   ]
  },
  {
   "cell_type": "code",
   "execution_count": 182,
   "id": "0fc46d78",
   "metadata": {},
   "outputs": [
    {
     "data": {
      "text/plain": [
       "3.45"
      ]
     },
     "execution_count": 182,
     "metadata": {},
     "output_type": "execute_result"
    }
   ],
   "source": [
    "L[2]"
   ]
  },
  {
   "cell_type": "code",
   "execution_count": 183,
   "id": "c3c1406c",
   "metadata": {},
   "outputs": [],
   "source": [
    "L.clear()"
   ]
  },
  {
   "cell_type": "code",
   "execution_count": 184,
   "id": "211da7a4",
   "metadata": {},
   "outputs": [
    {
     "data": {
      "text/plain": [
       "0"
      ]
     },
     "execution_count": 184,
     "metadata": {},
     "output_type": "execute_result"
    }
   ],
   "source": [
    "len(L)"
   ]
  },
  {
   "cell_type": "code",
   "execution_count": 185,
   "id": "ab46ab6e",
   "metadata": {},
   "outputs": [],
   "source": []
  },
  {
   "cell_type": "code",
   "execution_count": 5,
   "id": "7d11c6e6",
   "metadata": {},
   "outputs": [
    {
     "name": "stdout",
     "output_type": "stream",
     "text": [
      "<class 'int'>\n"
     ]
    }
   ],
   "source": [
    "print(type(L[3]))"
   ]
  },
  {
   "cell_type": "code",
   "execution_count": 8,
   "id": "f4bd56f6",
   "metadata": {},
   "outputs": [
    {
     "ename": "TypeError",
     "evalue": "'>' not supported between instances of 'str' and 'int'",
     "output_type": "error",
     "traceback": [
      "\u001b[1;31m---------------------------------------------------------------------------\u001b[0m",
      "\u001b[1;31mTypeError\u001b[0m                                 Traceback (most recent call last)",
      "Cell \u001b[1;32mIn[8], line 1\u001b[0m\n\u001b[1;32m----> 1\u001b[0m \u001b[38;5;28mmax\u001b[39m(L)\n",
      "\u001b[1;31mTypeError\u001b[0m: '>' not supported between instances of 'str' and 'int'"
     ]
    }
   ],
   "source": [
    "max(L)"
   ]
  },
  {
   "cell_type": "code",
   "execution_count": 28,
   "id": "37f378de",
   "metadata": {},
   "outputs": [],
   "source": [
    "L = OwnList()"
   ]
  },
  {
   "cell_type": "code",
   "execution_count": 29,
   "id": "265c5c06",
   "metadata": {},
   "outputs": [
    {
     "name": "stdout",
     "output_type": "stream",
     "text": [
      "[hello, sir, check]\n"
     ]
    }
   ],
   "source": [
    "L.append(\"hello\")\n",
    "L.append(\"sir\")\n",
    "L.append(\"check\")\n",
    "print(L)"
   ]
  },
  {
   "cell_type": "code",
   "execution_count": 21,
   "id": "6ba8934b",
   "metadata": {},
   "outputs": [
    {
     "name": "stdout",
     "output_type": "stream",
     "text": [
      "<class 'str'>\n",
      "<class 'str'>\n",
      "<class 'str'>\n"
     ]
    }
   ],
   "source": [
    "X=0\n",
    "for i in L:\n",
    "    if i == \"index out of range\":\n",
    "        break\n",
    "    print(type(L[X]))\n",
    "    X+=1\n",
    "    "
   ]
  },
  {
   "cell_type": "code",
   "execution_count": null,
   "id": "7f86f2db",
   "metadata": {},
   "outputs": [],
   "source": [
    "max(L)"
   ]
  },
  {
   "cell_type": "code",
   "execution_count": null,
   "id": "b241167e",
   "metadata": {},
   "outputs": [],
   "source": []
  },
  {
   "cell_type": "code",
   "execution_count": null,
   "id": "b347f0d8",
   "metadata": {},
   "outputs": [],
   "source": []
  },
  {
   "cell_type": "code",
   "execution_count": 23,
   "id": "7068a51a",
   "metadata": {},
   "outputs": [
    {
     "name": "stdout",
     "output_type": "stream",
     "text": [
      "['hello']\n"
     ]
    }
   ],
   "source": [
    "V = [\"hello\",\"neha\"]\n",
    "\n",
    "print(V[::2])"
   ]
  },
  {
   "cell_type": "code",
   "execution_count": 24,
   "id": "f3fdb2ad",
   "metadata": {},
   "outputs": [
    {
     "data": {
      "text/plain": [
       "'neha'"
      ]
     },
     "execution_count": 24,
     "metadata": {},
     "output_type": "execute_result"
    }
   ],
   "source": [
    "max(V)"
   ]
  },
  {
   "cell_type": "code",
   "execution_count": 14,
   "id": "8a10459f",
   "metadata": {},
   "outputs": [
    {
     "data": {
      "text/plain": [
       "104"
      ]
     },
     "execution_count": 14,
     "metadata": {},
     "output_type": "execute_result"
    }
   ],
   "source": [
    "ord(\"h\")"
   ]
  },
  {
   "cell_type": "code",
   "execution_count": 64,
   "id": "d7958fc9",
   "metadata": {},
   "outputs": [
    {
     "data": {
      "text/plain": [
       "'t'"
      ]
     },
     "execution_count": 64,
     "metadata": {},
     "output_type": "execute_result"
    }
   ],
   "source": [
    "x = \"string\"\n",
    "max(x)"
   ]
  },
  {
   "cell_type": "code",
   "execution_count": null,
   "id": "be7a12bd",
   "metadata": {},
   "outputs": [],
   "source": []
  }
 ],
 "metadata": {
  "kernelspec": {
   "display_name": "Python 3 (ipykernel)",
   "language": "python",
   "name": "python3"
  },
  "language_info": {
   "codemirror_mode": {
    "name": "ipython",
    "version": 3
   },
   "file_extension": ".py",
   "mimetype": "text/x-python",
   "name": "python",
   "nbconvert_exporter": "python",
   "pygments_lexer": "ipython3",
   "version": "3.11.5"
  }
 },
 "nbformat": 4,
 "nbformat_minor": 5
}
